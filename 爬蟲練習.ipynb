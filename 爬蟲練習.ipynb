{
 "cells": [
  {
   "cell_type": "code",
   "execution_count": 1,
   "metadata": {},
   "outputs": [
    {
     "name": "stdout",
     "output_type": "stream",
     "text": [
      "http://www.airitilibrary.com/Publication/alDetailedMesh1?DocID=U0007-0108201112393900\n",
      "https://www.airitilibrary.com/Publication/alDetailedMesh?docid=19918577-201005-201006170041-201006170041-67-81\n",
      "http://nccur.lib.nccu.edu.tw/bitstream/140.119/75402/1/901301.pdf\n",
      "http://ntcuir.ntcu.edu.tw/bitstream/987654321/3479/1/101NTCTC571002-001.pdf\n",
      "https://ndltd.ncl.edu.tw/r/82164947956220541516\n"
     ]
    }
   ],
   "source": [
    "from googlesearch import search\n",
    "\n",
    "query = \"探討台灣國際醫療行銷與台灣醫療聲量之間的關係\"\n",
    "\n",
    "for j in search(query, stop=5, pause=2.0): \n",
    "\tprint(j)\n",
    "\n",
    "\n"
   ]
  },
  {
   "cell_type": "code",
   "execution_count": 22,
   "metadata": {},
   "outputs": [
    {
     "name": "stdout",
     "output_type": "stream",
     "text": [
      "http://www.weather.com/wx/today/?lat=25.05&lon=121.36&locale=en_US&par=google\n",
      "https://www.cwb.gov.tw/\n",
      "https://www.cwb.gov.tw/V8/C/W/County/index.html\n",
      "https://www.cwb.gov.tw/V8/C/W/week.html\n",
      "https://www.cwb.gov.tw/V8/C/W/Town/index.html\n",
      "https://www.cwb.gov.tw/V8/C/W/OBS_Map.html\n"
     ]
    }
   ],
   "source": [
    "from googlesearch import search\n",
    "query = \"天氣預告\"\n",
    "for i in search(query,stop=6):\n",
    "    print(i)"
   ]
  },
  {
   "cell_type": "code",
   "execution_count": 4,
   "metadata": {},
   "outputs": [],
   "source": [
    "import requests\n",
    "import json\n",
    "import csv"
   ]
  },
  {
   "cell_type": "code",
   "execution_count": 13,
   "metadata": {},
   "outputs": [
    {
     "name": "stdout",
     "output_type": "stream",
     "text": [
      "Requirement already satisfied: pandas in c:\\users\\winni\\anaconda3\\envs\\rstudio\\lib\\site-packages (1.1.4)\n",
      "Requirement already satisfied: numpy>=1.15.4 in c:\\users\\winni\\anaconda3\\envs\\rstudio\\lib\\site-packages (from pandas) (1.19.4)\n",
      "Requirement already satisfied: pytz>=2017.2 in c:\\users\\winni\\anaconda3\\envs\\rstudio\\lib\\site-packages (from pandas) (2020.4)\n",
      "Requirement already satisfied: python-dateutil>=2.7.3 in c:\\users\\winni\\anaconda3\\envs\\rstudio\\lib\\site-packages (from pandas) (2.8.1)\n",
      "Requirement already satisfied: six>=1.5 in c:\\users\\winni\\anaconda3\\envs\\rstudio\\lib\\site-packages (from python-dateutil>=2.7.3->pandas) (1.15.0)\n",
      "Note: you may need to restart the kernel to use updated packages.\n"
     ]
    }
   ],
   "source": [
    "pip install pandas"
   ]
  },
  {
   "cell_type": "code",
   "execution_count": 48,
   "metadata": {},
   "outputs": [
    {
     "name": "stdout",
     "output_type": "stream",
     "text": [
      "Requirement already satisfied: beautifulsoup4 in c:\\users\\winni\\anaconda3\\envs\\rstudio\\lib\\site-packages (4.9.3)\n",
      "Requirement already satisfied: soupsieve>1.2 in c:\\users\\winni\\anaconda3\\envs\\rstudio\\lib\\site-packages (from beautifulsoup4) (2.0.1)\n",
      "Note: you may need to restart the kernel to use updated packages.\n"
     ]
    }
   ],
   "source": [
    "pip install beautifulsoup4"
   ]
  },
  {
   "cell_type": "code",
   "execution_count": 13,
   "metadata": {},
   "outputs": [
    {
     "data": {
      "text/html": [
       "<div>\n",
       "<style scoped>\n",
       "    .dataframe tbody tr th:only-of-type {\n",
       "        vertical-align: middle;\n",
       "    }\n",
       "\n",
       "    .dataframe tbody tr th {\n",
       "        vertical-align: top;\n",
       "    }\n",
       "\n",
       "    .dataframe thead th {\n",
       "        text-align: right;\n",
       "    }\n",
       "</style>\n",
       "<table border=\"1\" class=\"dataframe\">\n",
       "  <thead>\n",
       "    <tr style=\"text-align: right;\">\n",
       "      <th></th>\n",
       "      <th>groups</th>\n",
       "      <th>num</th>\n",
       "    </tr>\n",
       "  </thead>\n",
       "  <tbody>\n",
       "    <tr>\n",
       "      <th>0</th>\n",
       "      <td>Movies</td>\n",
       "      <td>46</td>\n",
       "    </tr>\n",
       "    <tr>\n",
       "      <th>1</th>\n",
       "      <td>Sports</td>\n",
       "      <td>8</td>\n",
       "    </tr>\n",
       "    <tr>\n",
       "      <th>2</th>\n",
       "      <td>Coding</td>\n",
       "      <td>12</td>\n",
       "    </tr>\n",
       "    <tr>\n",
       "      <th>3</th>\n",
       "      <td>Fishing</td>\n",
       "      <td>12</td>\n",
       "    </tr>\n",
       "    <tr>\n",
       "      <th>4</th>\n",
       "      <td>Dancing</td>\n",
       "      <td>6</td>\n",
       "    </tr>\n",
       "    <tr>\n",
       "      <th>5</th>\n",
       "      <td>cooking</td>\n",
       "      <td>58</td>\n",
       "    </tr>\n",
       "  </tbody>\n",
       "</table>\n",
       "</div>"
      ],
      "text/plain": [
       "    groups  num\n",
       "0   Movies   46\n",
       "1   Sports    8\n",
       "2   Coding   12\n",
       "3  Fishing   12\n",
       "4  Dancing    6\n",
       "5  cooking   58"
      ]
     },
     "execution_count": 13,
     "metadata": {},
     "output_type": "execute_result"
    }
   ],
   "source": [
    "import pandas as pd # 引用套件並縮寫為 pd\n",
    "\n",
    "groups = [\"Movies\", \"Sports\", \"Coding\", \"Fishing\", \"Dancing\", \"cooking\"]  \n",
    "num = [46, 8, 12, 12, 6, 58]\n",
    "\n",
    "dict = {\"groups\": groups,  \n",
    "        \"num\": num\n",
    "        }\n",
    "\n",
    "\n",
    "select_df = pd.DataFrame(dict)\n",
    "\n",
    "select_df.sort_index(axis = 0, ascending = True) # 透過索引值做排序，axis 可以指定第幾欄，ascending 用於設定升冪或降密  "
   ]
  },
  {
   "cell_type": "code",
   "execution_count": 32,
   "metadata": {},
   "outputs": [
    {
     "data": {
      "text/plain": [
       "[<matplotlib.lines.Line2D at 0x23395f956d8>]"
      ]
     },
     "execution_count": 32,
     "metadata": {},
     "output_type": "execute_result"
    },
    {
     "data": {
      "image/png": "[encoded data removed]",
      "text/plain": [
       "<Figure size 432x288 with 1 Axes>"
      ]
     },
     "metadata": {
      "needs_background": "light"
     },
     "output_type": "display_data"
    }
   ],
   "source": [
    "import numpy as np\n",
    "import matplotlib.pyplot as plt\n",
    "\n",
    "x = np.linspace(0, 10, 100)      # 0~10間，產生100個點\n",
    "plt.plot(x, np.sin(x))\n",
    "plt.plot(x, np.cos(x),'bo')      # blue，circle marker"
   ]
  },
  {
   "cell_type": "code",
   "execution_count": 74,
   "metadata": {},
   "outputs": [
    {
     "name": "stdout",
     "output_type": "stream",
     "text": [
      "\r\n",
      "\t個案故事 - 臺灣國際醫療全球資訊網\r\n",
      "\n"
     ]
    }
   ],
   "source": [
    "import urllib.request as req\n",
    "url = \"https://www.medicaltravel.org.tw/Case-List.aspx?position=0&l=1&p=1&name=&meds=\"\n",
    "\n",
    "with req.urlopen(url) as response:\n",
    "     data = response.read().decode(\"utf-8\")\n",
    "import bs4\n",
    "root = bs4.BeautifulSoup(data,\"html.parser\")\n",
    "title = root.find(\"title\" )\n",
    "print(title.string)"
   ]
  },
  {
   "cell_type": "code",
   "execution_count": 40,
   "metadata": {},
   "outputs": [
    {
     "name": "stdout",
     "output_type": "stream",
     "text": [
      "義大醫院人道救援個案\n",
      "彰基人道援助 越南陸幹來台就醫\n",
      "台灣用愛縫補 巴基斯坦女孩碧碧展笑顏\n",
      "車禍毀容來台重建，羅馬尼亞女孩笑了\n",
      "秘魯「象腿女」淋巴水腫　來台重生\n",
      "青春被吞噬！越南婦罹患成人型早老症\n",
      "人醫善緣續接力　馬國婦女跨海尋醫解病苦\n",
      "為海外僑胞健康把關　花蓮慈院提供五星級服務\n",
      "澄清醫院中港分院-大陸台商回台健檢\n",
      "「健康地球村．前進花蓮站」　花蓮慈院觀光醫療服務讚\n",
      "生死一瞬間 重生陸客感恩救心小組\n",
      "一封來自國外朋友的感謝\n",
      "星國病友親身體驗耕莘醫院優質國際醫療服務\n"
     ]
    }
   ],
   "source": [
    "import urllib.request as req\n",
    "def getData(url):\n",
    "    with req.urlopen(url) as response:\n",
    "        data = response.read().decode(\"utf-8\")\n",
    "    import bs4\n",
    "    root = bs4.BeautifulSoup(data,\"html.parser\")\n",
    "    titles = root.find_all(\"h2\")\n",
    "    for title in titles:\n",
    "        print(title.string)\n",
    "    nextlink = root.find(\"a\",title=\"上一頁\")\n",
    "    return nextlink[\"href\"]\n",
    "    #抓取一個頁面的標題\n",
    "pageurl =\"https://www.medicaltravel.org.tw/Case-List.aspx?position=0&l=1&p=31&name=&meds=\"\n",
    "count = 0\n",
    "while count<2:\n",
    "    pageurl = \"https://www.medicaltravel.org.tw/\"+getData(pageurl)\n",
    "    count+=1\n",
    " "
   ]
  },
  {
   "cell_type": "code",
   "execution_count": 41,
   "metadata": {},
   "outputs": [
    {
     "name": "stdout",
     "output_type": "stream",
     "text": [
      "義大醫院人道救援個案\n",
      "彰基人道援助 越南陸幹來台就醫\n",
      "台灣用愛縫補 巴基斯坦女孩碧碧展笑顏\n",
      "車禍毀容來台重建，羅馬尼亞女孩笑了\n"
     ]
    }
   ],
   "source": [
    "#建立連線\n",
    "import urllib.request as req\n",
    "def getData(url):\n",
    "    with req.urlopen(url) as response:\n",
    "        data = response.read().decode(\"utf-8\")\n",
    "\n",
    "    #解析資料\n",
    "    import bs4\n",
    "    root=bs4.BeautifulSoup(data,\"html.parser\")\n",
    "    title=root.find_all(\"h2\")\n",
    "    for titles in title:\n",
    "        print(titles.string)\n",
    "    #下一頁\n",
    "    nextlink = root.find(\"a\",title=\"上一頁\")\n",
    "    return  nextlink[\"href\"]\n",
    "pageurl =\"https://www.medicaltravel.org.tw/Case-List.aspx?position=0&l=1&p=31&name=&meds=\"\n",
    "coun = 0\n",
    "while count < 3:\n",
    "    pageurl = \"https://www.medicaltravel.org.tw/\"+getData(pageurl)\n",
    "    count+=1"
   ]
  },
  {
   "cell_type": "code",
   "execution_count": 5,
   "metadata": {},
   "outputs": [
    {
     "name": "stdout",
     "output_type": "stream",
     "text": [
      "生死一瞬間 重生陸客感恩救心小組\n",
      "一封來自國外朋友的感謝\n",
      "星國病友親身體驗耕莘醫院優質國際醫療服務\n",
      "義大醫院人道救援個案\n",
      "彰基人道援助 越南陸幹來台就醫\n",
      "台灣用愛縫補 巴基斯坦女孩碧碧展笑顏\n",
      "車禍毀容來台重建，羅馬尼亞女孩笑了\n"
     ]
    }
   ],
   "source": [
    "import requests\n",
    "from bs4 import BeautifulSoup\n",
    "url = ('https://www.medicaltravel.org.tw/Case-List.aspx?position=0&l=1&p=31&name=&meds=')\n",
    "data = requests.get (url)\n",
    "sp = BeautifulSoup(data.text,'html.parser')\n",
    "titles = sp.find_all('h2')\n",
    "for title in titles:\n",
    "    print(title.text)"
   ]
  },
  {
   "cell_type": "code",
   "execution_count": null,
   "metadata": {},
   "outputs": [],
   "source": []
  }
 ],
 "metadata": {
  "kernelspec": {
   "display_name": "Python 3",
   "language": "python",
   "name": "python3"
  },
  "language_info": {
   "codemirror_mode": {
    "name": "ipython",
    "version": 3
   },
   "file_extension": ".py",
   "mimetype": "text/x-python",
   "name": "python",
   "nbconvert_exporter": "python",
   "pygments_lexer": "ipython3",
   "version": "3.7.1"
  }
 },
 "nbformat": 4,
 "nbformat_minor": 4
}
