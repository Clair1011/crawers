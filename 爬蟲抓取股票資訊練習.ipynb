{
 "cells": [
  {
   "cell_type": "code",
   "execution_count": 1,
   "metadata": {},
   "outputs": [],
   "source": [
    "def convertDate(date):\n",
    "    str1 = str(date)\n",
    "    yearstr = str1[:3] # 取出民國年\n",
    "    realyear = str(int(yearstr)+1911) #轉為西元年\n",
    "    realdate = realyear + str1[4:6] + str1[7:9] #組合日期\n",
    "    return realdate"
   ]
  },
  {
   "cell_type": "code",
   "execution_count": 2,
   "metadata": {},
   "outputs": [
    {
     "name": "stdout",
     "output_type": "stream",
     "text": [
      "https://www.twse.com.tw/exchangeReport/STOCK_DAY?response=json&date=20190101&stockNo=2317&_=1608462641358\n",
      "https://www.twse.com.tw/exchangeReport/STOCK_DAY?response=json&date=20190201&stockNo=2317&_=1608462641358\n",
      "https://www.twse.com.tw/exchangeReport/STOCK_DAY?response=json&date=20190301&stockNo=2317&_=1608462641358\n",
      "https://www.twse.com.tw/exchangeReport/STOCK_DAY?response=json&date=20190401&stockNo=2317&_=1608462641358\n",
      "https://www.twse.com.tw/exchangeReport/STOCK_DAY?response=json&date=20190501&stockNo=2317&_=1608462641358\n",
      "https://www.twse.com.tw/exchangeReport/STOCK_DAY?response=json&date=20190601&stockNo=2317&_=1608462641358\n",
      "https://www.twse.com.tw/exchangeReport/STOCK_DAY?response=json&date=20190701&stockNo=2317&_=1608462641358\n",
      "https://www.twse.com.tw/exchangeReport/STOCK_DAY?response=json&date=20190801&stockNo=2317&_=1608462641358\n",
      "https://www.twse.com.tw/exchangeReport/STOCK_DAY?response=json&date=20190901&stockNo=2317&_=1608462641358\n",
      "https://www.twse.com.tw/exchangeReport/STOCK_DAY?response=json&date=20191001&stockNo=2317&_=1608462641358\n",
      "https://www.twse.com.tw/exchangeReport/STOCK_DAY?response=json&date=20191101&stockNo=2317&_=1608462641358\n",
      "https://www.twse.com.tw/exchangeReport/STOCK_DAY?response=json&date=20191201&stockNo=2317&_=1608462641358\n"
     ]
    }
   ],
   "source": [
    "def towdigit(n):\n",
    "    if n<10:\n",
    "        retstr = '0'+str(n)\n",
    "    else:\n",
    "        retstr = str(n)\n",
    "    return retstr\n",
    "\n",
    "urlbase = 'https://www.twse.com.tw/exchangeReport/STOCK_DAY?response=json&date=2019' #網址前半部分\n",
    "urltail = '01&stockNo=2317&_=1608462641358' #網址後半部分\n",
    "for i in range(1,13):\n",
    "    url_twse = urlbase + towdigit(i) + urltail\n",
    "    print(url_twse)"
   ]
  },
  {
   "cell_type": "code",
   "execution_count": 9,
   "metadata": {},
   "outputs": [],
   "source": [
    "def convertDate(date):\n",
    "    str1 = str(date)\n",
    "    yearstr = str1[:3] # 取出民國年\n",
    "    realyear = str(int(yearstr)+1911) #轉為西元年\n",
    "    realdate = realyear + str1[4:6] + str1[7:9] #組合日期\n",
    "    return realdate\n",
    "\n",
    "import requests\n",
    "import json,csv\n",
    "import pandas as pd\n",
    "import os \n",
    "import matplotlib.pyplot as plt\n",
    "\n",
    "plt.rcParams[\"font.sans-serif\"] = \"mingliu\" #設定中文字型\n",
    "plt.rcParams[\"axes.unicode_minus\"] = False\n",
    "\n",
    "pd.options.mode.chained_assignment = None # 取消顯示pandas資料重設警告\n",
    "\n",
    "filepath = 'stockmonth01.csv'\n",
    "\n",
    "if not os.path.isfile(filepath): #如果檔案不存在就建立檔案\n",
    "    utl_twse = 'https://www.twse.com.tw/exchangeReport/STOCK_DAY?response=html&date=20190101&stockNo=2317'\n",
    "    res = requests.get(url_twse) #回傳為Json格式\n",
    "    jdata = json.loads(res.text) #json解析\n",
    "    \n"
   ]
  },
  {
   "cell_type": "code",
   "execution_count": null,
   "metadata": {},
   "outputs": [],
   "source": []
  },
  {
   "cell_type": "code",
   "execution_count": null,
   "metadata": {},
   "outputs": [],
   "source": []
  }
 ],
 "metadata": {
  "kernelspec": {
   "display_name": "Python 3",
   "language": "python",
   "name": "python3"
  },
  "language_info": {
   "codemirror_mode": {
    "name": "ipython",
    "version": 3
   },
   "file_extension": ".py",
   "mimetype": "text/x-python",
   "name": "python",
   "nbconvert_exporter": "python",
   "pygments_lexer": "ipython3",
   "version": "3.7.1"
  }
 },
 "nbformat": 4,
 "nbformat_minor": 4
}
